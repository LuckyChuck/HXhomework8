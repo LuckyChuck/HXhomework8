{
 "cells": [
  {
   "cell_type": "code",
   "execution_count": 3,
   "metadata": {},
   "outputs": [],
   "source": [
    "#-*- encoding:utf-8 -*-\n",
    "from  textrank4zh import TextRank4Keyword,TextRank4Sentence"
   ]
  },
  {
   "cell_type": "code",
   "execution_count": 4,
   "metadata": {},
   "outputs": [],
   "source": [
    "#读取文件内容\n",
    "with open('./news_高考.txt','r',encoding='utf-8') as f:\n",
    "    text = f.read()\n",
    "    # print(data)"
   ]
  },
  {
   "cell_type": "code",
   "execution_count": 5,
   "metadata": {},
   "outputs": [
    {
     "name": "stderr",
     "output_type": "stream",
     "text": [
      "Building prefix dict from the default dictionary ...\n",
      "Loading model from cache C:\\Users\\Dracula\\AppData\\Local\\Temp\\jieba.cache\n",
      "Loading model cost 0.621 seconds.\n",
      "Prefix dict has been built successfully.\n"
     ]
    },
    {
     "name": "stdout",
     "output_type": "stream",
     "text": [
      "关键词：\n",
      "高考 0.0561910284818324\n",
      "考生 0.04229947253711349\n",
      "中学 0.01564725882438625\n",
      "厂镇 0.015270437153080206\n",
      "坦厂 0.01342788926095217\n",
      "考试 0.012890430450963762\n",
      "毛坦 0.012374789433256666\n",
      "安徽 0.011541890740988228\n",
      "家长 0.011021388113493073\n",
      "复读 0.009964606550782447\n",
      "公布 0.009526883500013196\n",
      "安徽省 0.009371202810728618\n",
      "学习 0.009365336245696737\n",
      "今年 0.009159295458997335\n",
      "疫情 0.009046585114833387\n",
      "分数线 0.008944006764594772\n",
      "往年 0.008639663883681153\n",
      "学生 0.008604230147317472\n",
      "六安市 0.008495570132677311\n",
      "人数 0.008493922897178584\n"
     ]
    }
   ],
   "source": [
    "#提取关键词\n",
    "tr4w = TextRank4Keyword()\n",
    "tr4w.analyze(text=text, lower=True, window=3)#是否将文本转为小写，窗口为3\n",
    "print('关键词：')\n",
    "for item in tr4w.get_keywords(20, word_min_len=2):#单词最小长度，设置为2合理，因为3个字以上的词并不能很好的代表句子\n",
    "    print(item.word, item.weight)\n",
    "\n"
   ]
  },
  {
   "cell_type": "code",
   "execution_count": 6,
   "metadata": {},
   "outputs": [
    {
     "name": "stdout",
     "output_type": "stream",
     "text": [
      "摘要：\n",
      "4 0.06799640479282443 7月23日，毛坦厂中学所在的安徽六安市毛坦厂镇官方发布喜报称，根据网络查询，六安市毛坦厂中学、金安高级中学、金安中学补习班2020年高考再创佳绩，再传捷报，安徽籍考生（不含外省考生）本科达线人数10176人，其中600分以上600分以上290人，理科最高分674分，文科最高分608分\n",
      "12 0.06192582599548609 据悉，毛坦厂镇面积只有3.5平方公里，人口不过万余人，从1999年后，毛坦厂中学借高考复读声名鹊起，每年都要吸引2万多学生和1万多陪读家长，整个小镇接近5万人\n",
      "15 0.05979224551975722 在高考前，为了保障高考的顺利进行，高考镇实行了史上最严的“封锁”，在疫情开始之初，通往毛坦厂镇的所有道路都被切断，4月初，安徽省境内高三年级开始复课之后，因为外来复读学生较多，毛坦厂镇曾经短暂对外地家长和考生开放了几天，随之又实行严格管控，一直到7月5日考生离开高考镇时才解封\n"
     ]
    }
   ],
   "source": [
    "#输出摘要\n",
    "tr4s = TextRank4Sentence()\n",
    "tr4s.analyze(text=text, lower=True, source = 'all_filters')\n",
    "print('摘要：')\n",
    "# 权重前3的摘要\n",
    "for item in tr4s.get_key_sentences(num=3):\n",
    "\t# index是语句在文本中位置，weight表示权重\n",
    "    print(item.index, item.weight, item.sentence)"
   ]
  },
  {
   "cell_type": "code",
   "execution_count": null,
   "metadata": {},
   "outputs": [],
   "source": []
  }
 ],
 "metadata": {
  "kernelspec": {
   "display_name": "Python 3",
   "language": "python",
   "name": "python3"
  },
  "language_info": {
   "codemirror_mode": {
    "name": "ipython",
    "version": 3
   },
   "file_extension": ".py",
   "mimetype": "text/x-python",
   "name": "python",
   "nbconvert_exporter": "python",
   "pygments_lexer": "ipython3",
   "version": "3.7.4"
  }
 },
 "nbformat": 4,
 "nbformat_minor": 2
}
